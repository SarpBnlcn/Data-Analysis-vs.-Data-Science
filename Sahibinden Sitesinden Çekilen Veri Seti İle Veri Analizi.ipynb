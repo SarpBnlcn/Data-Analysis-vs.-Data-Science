{
 "cells": [
  {
   "cell_type": "code",
   "execution_count": 1,
   "id": "0bf31e8d-1374-4b5e-85e4-514d9c5934d6",
   "metadata": {},
   "outputs": [],
   "source": [
    "import pandas as pd\n",
    "import numpy as np\n",
    "import scipy as sp\n",
    "import matplotlib.pyplot as plt\n",
    "import seaborn as sns\n",
    "import seaborn as sbn"
   ]
  },
  {
   "cell_type": "code",
   "execution_count": 3,
   "id": "64494feb-230b-46a0-acad-1f5c12f7e54a",
   "metadata": {},
   "outputs": [
    {
     "data": {
      "text/html": [
       "<div>\n",
       "<style scoped>\n",
       "    .dataframe tbody tr th:only-of-type {\n",
       "        vertical-align: middle;\n",
       "    }\n",
       "\n",
       "    .dataframe tbody tr th {\n",
       "        vertical-align: top;\n",
       "    }\n",
       "\n",
       "    .dataframe thead th {\n",
       "        text-align: right;\n",
       "    }\n",
       "</style>\n",
       "<table border=\"1\" class=\"dataframe\">\n",
       "  <thead>\n",
       "    <tr style=\"text-align: right;\">\n",
       "      <th></th>\n",
       "      <th>Column 1</th>\n",
       "      <th>Column 2</th>\n",
       "    </tr>\n",
       "  </thead>\n",
       "  <tbody>\n",
       "    <tr>\n",
       "      <th>0</th>\n",
       "      <td>Fiyat</td>\n",
       "      <td>10.800 TL</td>\n",
       "    </tr>\n",
       "    <tr>\n",
       "      <th>1</th>\n",
       "      <td>NaN</td>\n",
       "      <td>12.500 TL</td>\n",
       "    </tr>\n",
       "    <tr>\n",
       "      <th>2</th>\n",
       "      <td>NaN</td>\n",
       "      <td>23.000 TL</td>\n",
       "    </tr>\n",
       "    <tr>\n",
       "      <th>3</th>\n",
       "      <td>NaN</td>\n",
       "      <td>NaN</td>\n",
       "    </tr>\n",
       "    <tr>\n",
       "      <th>4</th>\n",
       "      <td>NaN</td>\n",
       "      <td>11.000 TL</td>\n",
       "    </tr>\n",
       "  </tbody>\n",
       "</table>\n",
       "</div>"
      ],
      "text/plain": [
       "  Column 1   Column 2\n",
       "0    Fiyat  10.800 TL\n",
       "1      NaN  12.500 TL\n",
       "2      NaN  23.000 TL\n",
       "3      NaN        NaN\n",
       "4      NaN  11.000 TL"
      ]
     },
     "execution_count": 3,
     "metadata": {},
     "output_type": "execute_result"
    }
   ],
   "source": [
    "veri = pd.read_csv(\"C:/Users/benli/OneDrive/Masaüstü/karcher.csv\")\n",
    "veri.head()"
   ]
  },
  {
   "cell_type": "markdown",
   "id": "c85410ca-47ce-42bf-8c83-ea5065550fbb",
   "metadata": {},
   "source": [
    "Sütunların Yerlerini ve İsimlerini Değiştirme İşlemi"
   ]
  },
  {
   "cell_type": "code",
   "execution_count": 5,
   "id": "b7de9dfd-cda9-49f3-8e66-e6a9e3d2304e",
   "metadata": {},
   "outputs": [
    {
     "data": {
      "text/html": [
       "<div>\n",
       "<style scoped>\n",
       "    .dataframe tbody tr th:only-of-type {\n",
       "        vertical-align: middle;\n",
       "    }\n",
       "\n",
       "    .dataframe tbody tr th {\n",
       "        vertical-align: top;\n",
       "    }\n",
       "\n",
       "    .dataframe thead th {\n",
       "        text-align: right;\n",
       "    }\n",
       "</style>\n",
       "<table border=\"1\" class=\"dataframe\">\n",
       "  <thead>\n",
       "    <tr style=\"text-align: right;\">\n",
       "      <th></th>\n",
       "      <th>Fiyatlar</th>\n",
       "      <th>Birim</th>\n",
       "    </tr>\n",
       "  </thead>\n",
       "  <tbody>\n",
       "    <tr>\n",
       "      <th>0</th>\n",
       "      <td>10.800 TL</td>\n",
       "      <td>Fiyat</td>\n",
       "    </tr>\n",
       "    <tr>\n",
       "      <th>1</th>\n",
       "      <td>12.500 TL</td>\n",
       "      <td>NaN</td>\n",
       "    </tr>\n",
       "    <tr>\n",
       "      <th>2</th>\n",
       "      <td>23.000 TL</td>\n",
       "      <td>NaN</td>\n",
       "    </tr>\n",
       "    <tr>\n",
       "      <th>3</th>\n",
       "      <td>NaN</td>\n",
       "      <td>NaN</td>\n",
       "    </tr>\n",
       "    <tr>\n",
       "      <th>4</th>\n",
       "      <td>11.000 TL</td>\n",
       "      <td>NaN</td>\n",
       "    </tr>\n",
       "    <tr>\n",
       "      <th>5</th>\n",
       "      <td>18.000 TL</td>\n",
       "      <td>NaN</td>\n",
       "    </tr>\n",
       "    <tr>\n",
       "      <th>6</th>\n",
       "      <td>14.900 TL</td>\n",
       "      <td>NaN</td>\n",
       "    </tr>\n",
       "    <tr>\n",
       "      <th>7</th>\n",
       "      <td>15.500 TL</td>\n",
       "      <td>NaN</td>\n",
       "    </tr>\n",
       "    <tr>\n",
       "      <th>8</th>\n",
       "      <td>25.000 TL</td>\n",
       "      <td>NaN</td>\n",
       "    </tr>\n",
       "    <tr>\n",
       "      <th>9</th>\n",
       "      <td>22.000 TL</td>\n",
       "      <td>NaN</td>\n",
       "    </tr>\n",
       "    <tr>\n",
       "      <th>10</th>\n",
       "      <td>24.000 TL</td>\n",
       "      <td>NaN</td>\n",
       "    </tr>\n",
       "    <tr>\n",
       "      <th>11</th>\n",
       "      <td>\\n                            \\n     22.000 TL...</td>\n",
       "      <td>NaN</td>\n",
       "    </tr>\n",
       "    <tr>\n",
       "      <th>12</th>\n",
       "      <td>19.500 TL</td>\n",
       "      <td>NaN</td>\n",
       "    </tr>\n",
       "    <tr>\n",
       "      <th>13</th>\n",
       "      <td>18.500 TL</td>\n",
       "      <td>NaN</td>\n",
       "    </tr>\n",
       "    <tr>\n",
       "      <th>14</th>\n",
       "      <td>18.800 TL</td>\n",
       "      <td>NaN</td>\n",
       "    </tr>\n",
       "    <tr>\n",
       "      <th>15</th>\n",
       "      <td>18.500 TL</td>\n",
       "      <td>NaN</td>\n",
       "    </tr>\n",
       "    <tr>\n",
       "      <th>16</th>\n",
       "      <td>12.500 TL</td>\n",
       "      <td>NaN</td>\n",
       "    </tr>\n",
       "    <tr>\n",
       "      <th>17</th>\n",
       "      <td>12.000 TL</td>\n",
       "      <td>NaN</td>\n",
       "    </tr>\n",
       "    <tr>\n",
       "      <th>18</th>\n",
       "      <td>15.250 TL</td>\n",
       "      <td>NaN</td>\n",
       "    </tr>\n",
       "  </tbody>\n",
       "</table>\n",
       "</div>"
      ],
      "text/plain": [
       "                                             Fiyatlar  Birim\n",
       "0                                           10.800 TL  Fiyat\n",
       "1                                           12.500 TL    NaN\n",
       "2                                           23.000 TL    NaN\n",
       "3                                                 NaN    NaN\n",
       "4                                           11.000 TL    NaN\n",
       "5                                           18.000 TL    NaN\n",
       "6                                           14.900 TL    NaN\n",
       "7                                           15.500 TL    NaN\n",
       "8                                           25.000 TL    NaN\n",
       "9                                           22.000 TL    NaN\n",
       "10                                          24.000 TL    NaN\n",
       "11  \\n                            \\n     22.000 TL...    NaN\n",
       "12                                          19.500 TL    NaN\n",
       "13                                          18.500 TL    NaN\n",
       "14                                          18.800 TL    NaN\n",
       "15                                          18.500 TL    NaN\n",
       "16                                          12.500 TL    NaN\n",
       "17                                          12.000 TL    NaN\n",
       "18                                          15.250 TL    NaN"
      ]
     },
     "execution_count": 5,
     "metadata": {},
     "output_type": "execute_result"
    }
   ],
   "source": [
    "veri = pd.DataFrame(veri)\n",
    "veri = veri[['Column 2', 'Column 1']]\n",
    "veri.rename(columns={'Column 1': 'Birim', 'Column 2': 'Fiyatlar'}, inplace=True)\n",
    "veri"
   ]
  },
  {
   "cell_type": "markdown",
   "id": "85dcedcf-017b-4f9b-91e6-ef14fd913a88",
   "metadata": {},
   "source": [
    "NaN Değerleri Veriden Çıkarma İşlemi"
   ]
  },
  {
   "cell_type": "code",
   "execution_count": 9,
   "id": "7a39a52c-2ffa-4e3f-8b9f-e1b91381dc84",
   "metadata": {},
   "outputs": [],
   "source": [
    "veri.loc[0, 'Birim'] = 'TL'\n",
    "veri.loc[0, 'Fiyatlar'] = '10.800 TL'\n",
    "veri['Birim'].fillna('TL', inplace=True)\n"
   ]
  },
  {
   "cell_type": "code",
   "execution_count": 15,
   "id": "c54cb24b-1ea8-494e-a3a0-3932df6b422a",
   "metadata": {},
   "outputs": [],
   "source": [
    "veri['Birim'].fillna('Fiyat', inplace=True)\n",
    "veri = veri.dropna(subset=['Fiyatlar'], axis=0)\n",
    "veri['Birim'].fillna('Fiyat', inplace=True)\n",
    "veri['Birim'].fillna('Fiyat', inplace=True)\n"
   ]
  },
  {
   "cell_type": "code",
   "execution_count": 17,
   "id": "433aa9bc-bd44-4c60-8274-8d5b76ccfca0",
   "metadata": {},
   "outputs": [],
   "source": [
    "veri['Fiyatlar'] = veri['Fiyatlar'].astype(str).apply(lambda x: '{:.3f}'.format(float(x.replace(' TL', '').strip())))"
   ]
  },
  {
   "cell_type": "code",
   "execution_count": 19,
   "id": "5b6fbb4d-c848-4f3f-9e7b-9453527d8b4d",
   "metadata": {},
   "outputs": [
    {
     "name": "stdout",
     "output_type": "stream",
     "text": [
      "   Fiyatlar Birim\n",
      "0    10.800    TL\n",
      "1    12.500    TL\n",
      "2    23.000    TL\n",
      "4    11.000    TL\n",
      "5    18.000    TL\n",
      "6    14.900    TL\n",
      "7    15.500    TL\n",
      "8    25.000    TL\n",
      "9    22.000    TL\n",
      "10   24.000    TL\n",
      "11   22.000    TL\n",
      "12   19.500    TL\n",
      "13   18.500    TL\n",
      "14   18.800    TL\n",
      "15   18.500    TL\n",
      "16   12.500    TL\n",
      "17   12.000    TL\n",
      "18   15.250    TL\n"
     ]
    }
   ],
   "source": [
    "print(veri)"
   ]
  },
  {
   "cell_type": "markdown",
   "id": "4e729e37-0e72-458b-bc2f-2af3451b9e51",
   "metadata": {},
   "source": [
    "Fiyatlar Sütununu Float Veri Tipine Dönüştürme"
   ]
  },
  {
   "cell_type": "code",
   "execution_count": 22,
   "id": "de2de98e-c237-4a3a-be1a-5f67073329e9",
   "metadata": {},
   "outputs": [],
   "source": [
    "veri['Fiyatlar'] = veri['Fiyatlar'].str.replace(' TL', '').astype(float)"
   ]
  },
  {
   "cell_type": "markdown",
   "id": "92f34141-caf2-4426-b9ed-c6ae133651e8",
   "metadata": {},
   "source": [
    "Veri Görselleştirme - Box Plot"
   ]
  },
  {
   "cell_type": "code",
   "execution_count": 25,
   "id": "777271f9-b5ce-4962-8811-65033d7cfc4b",
   "metadata": {},
   "outputs": [
    {
     "data": {
      "image/png": "[encoded data removed]",
      "text/plain": [
       "<Figure size 1000x600 with 1 Axes>"
      ]
     },
     "metadata": {},
     "output_type": "display_data"
    }
   ],
   "source": [
    "plt.figure(figsize=(10, 6))\n",
    "sns.boxplot(x='Fiyatlar', y='Birim', data=veri)\n",
    "plt.xticks(rotation=45)\n",
    "plt.title('Box Plot')\n",
    "plt.show()"
   ]
  },
  {
   "cell_type": "markdown",
   "id": "0c2166be-ae4c-4c72-87ec-627ef6ca188b",
   "metadata": {},
   "source": [
    "Betimsel İstatistik Değerleri"
   ]
  },
  {
   "cell_type": "code",
   "execution_count": 28,
   "id": "a08ebf1e-0ddc-45ea-a4cd-6bd048c0d9ed",
   "metadata": {},
   "outputs": [
    {
     "data": {
      "text/html": [
       "<div>\n",
       "<style scoped>\n",
       "    .dataframe tbody tr th:only-of-type {\n",
       "        vertical-align: middle;\n",
       "    }\n",
       "\n",
       "    .dataframe tbody tr th {\n",
       "        vertical-align: top;\n",
       "    }\n",
       "\n",
       "    .dataframe thead th {\n",
       "        text-align: right;\n",
       "    }\n",
       "</style>\n",
       "<table border=\"1\" class=\"dataframe\">\n",
       "  <thead>\n",
       "    <tr style=\"text-align: right;\">\n",
       "      <th></th>\n",
       "      <th>count</th>\n",
       "      <th>mean</th>\n",
       "      <th>std</th>\n",
       "      <th>min</th>\n",
       "      <th>25%</th>\n",
       "      <th>50%</th>\n",
       "      <th>75%</th>\n",
       "      <th>max</th>\n",
       "    </tr>\n",
       "  </thead>\n",
       "  <tbody>\n",
       "    <tr>\n",
       "      <th>Fiyatlar</th>\n",
       "      <td>18.0</td>\n",
       "      <td>17.430556</td>\n",
       "      <td>4.603807</td>\n",
       "      <td>10.8</td>\n",
       "      <td>13.1</td>\n",
       "      <td>18.25</td>\n",
       "      <td>21.375</td>\n",
       "      <td>25.0</td>\n",
       "    </tr>\n",
       "  </tbody>\n",
       "</table>\n",
       "</div>"
      ],
      "text/plain": [
       "          count       mean       std   min   25%    50%     75%   max\n",
       "Fiyatlar   18.0  17.430556  4.603807  10.8  13.1  18.25  21.375  25.0"
      ]
     },
     "execution_count": 28,
     "metadata": {},
     "output_type": "execute_result"
    }
   ],
   "source": [
    "veri.describe().T"
   ]
  },
  {
   "cell_type": "markdown",
   "id": "0f2dabf8-b464-4560-8c59-6379b82ba39d",
   "metadata": {},
   "source": [
    "IQR ve Çeyreklikler Değerlerinin Hesaplanmas"
   ]
  },
  {
   "cell_type": "code",
   "execution_count": 31,
   "id": "53955718-24d7-4e2c-9929-2306dbdcc118",
   "metadata": {},
   "outputs": [
    {
     "data": {
      "text/plain": [
       "(13.1, 21.375, 8.275)"
      ]
     },
     "execution_count": 31,
     "metadata": {},
     "output_type": "execute_result"
    }
   ],
   "source": [
    "Q1 = veri['Fiyatlar'].quantile(0.25)\n",
    "Q3 = veri['Fiyatlar'].quantile(0.75)\n",
    "IQR = Q3 - Q1\n",
    "\n",
    "Q1,Q3,IQR"
   ]
  }
 ],
 "metadata": {
  "kernelspec": {
   "display_name": "Python 3 (ipykernel)",
   "language": "python",
   "name": "python3"
  },
  "language_info": {
   "codemirror_mode": {
    "name": "ipython",
    "version": 3
   },
   "file_extension": ".py",
   "mimetype": "text/x-python",
   "name": "python",
   "nbconvert_exporter": "python",
   "pygments_lexer": "ipython3",
   "version": "3.11.5"
  }
 },
 "nbformat": 4,
 "nbformat_minor": 5
}
